{
 "cells": [
  {
   "cell_type": "code",
   "execution_count": null,
   "id": "6ebcef4d",
   "metadata": {},
   "outputs": [],
   "source": [
    "import tensorflow as tf\n",
    "import cv2\n",
    "\n",
    "# Load the pre-trained model\n",
    "model = tf.saved_model.load('path/to/saved_model')\n",
    "\n",
    "# Load the image\n",
    "image = cv2.imread('path/to/image')\n",
    "\n",
    "# Convert the image to a tensor\n",
    "input_tensor = tf.convert_to_tensor(image)\n",
    "\n",
    "# Run the inference\n",
    "output_dict = model(input_tensor)\n",
    "\n",
    "# Get the detected objects and their scores\n",
    "detections = output_dict['detection_boxes'][0].numpy()\n",
    "scores = output_dict['detection_scores'][0].numpy()\n",
    "\n",
    "# Loop through the detections and draw bounding boxes for objects with high scores\n",
    "for i in range(len(detections)):\n",
    "    if scores[i] > 0.5:\n",
    "        ymin, xmin, ymax, xmax = detections[i]\n",
    "        xmin = int(xmin * image.shape[1])\n",
    "        xmax = int(xmax * image.shape[1])\n",
    "        ymin = int(ymin * image.shape[0])\n",
    "        ymax = int(ymax * image.shape[0])\n",
    "        cv2.rectangle(image, (xmin, ymin), (xmax, ymax), (0, 255, 0), 2)\n",
    "\n",
    "# Show the image with bounding boxes\n",
    "cv2.imshow('Image', image)\n",
    "cv2.waitKey(0)\n"
   ]
  }
 ],
 "metadata": {
  "kernelspec": {
   "display_name": "Python 3",
   "language": "python",
   "name": "python3"
  },
  "language_info": {
   "codemirror_mode": {
    "name": "ipython",
    "version": 3
   },
   "file_extension": ".py",
   "mimetype": "text/x-python",
   "name": "python",
   "nbconvert_exporter": "python",
   "pygments_lexer": "ipython3",
   "version": "3.8.8"
  }
 },
 "nbformat": 4,
 "nbformat_minor": 5
}
